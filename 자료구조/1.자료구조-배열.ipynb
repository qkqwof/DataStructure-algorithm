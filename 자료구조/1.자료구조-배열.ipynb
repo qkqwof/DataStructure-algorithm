{
 "cells": [
  {
   "cell_type": "markdown",
   "metadata": {},
   "source": [
    "## 꼭 알아둬야할 자료구조 : 배열(array)"
   ]
  },
  {
   "cell_type": "markdown",
   "metadata": {},
   "source": [
    "- 데이터를 나열하고, 각 데이터를 인덱스에 대응하도록 구성한 데이터 구조\n",
    "- 파이썬에서는 리스트 타입이 배열 기능을 제공하고 있음"
   ]
  },
  {
   "cell_type": "markdown",
   "metadata": {},
   "source": [
    "## 1. 배열이 필요한 이유\n",
    "\n",
    "- 같은 종류의 데이터를 효율적으로 관리하기 위해 사용\n",
    "- 같은 종류의 데이터를 순차적으로 저장"
   ]
  },
  {
   "cell_type": "markdown",
   "metadata": {},
   "source": [
    "- 배열의 장점\n",
    "    - 빠른 접근 가능\n",
    "    (인덱스 번호를 사용하여 데이터에 접근 가능)\n",
    "- 배열의 단점\n",
    "    - 데이터의 추가/삭제가 쉽지 않음\n",
    "    - 미리 최대 길이를 지정해야 함"
   ]
  },
  {
   "cell_type": "markdown",
   "metadata": {},
   "source": [
    "## 2. 파이썬과 C언어의 배열 예제"
   ]
  },
  {
   "cell_type": "code",
   "execution_count": 1,
   "metadata": {},
   "outputs": [
    {
     "ename": "SyntaxError",
     "evalue": "invalid syntax (<ipython-input-1-9ed9b23f1d19>, line 4)",
     "output_type": "error",
     "traceback": [
      "\u001b[1;36m  File \u001b[1;32m\"<ipython-input-1-9ed9b23f1d19>\"\u001b[1;36m, line \u001b[1;32m4\u001b[0m\n\u001b[1;33m    int main(int argc,char * argv[])\u001b[0m\n\u001b[1;37m        ^\u001b[0m\n\u001b[1;31mSyntaxError\u001b[0m\u001b[1;31m:\u001b[0m invalid syntax\n"
     ]
    }
   ],
   "source": [
    "### C언어 - 최대의 길이를 지정해야 함\n",
    "# include <stdio.h>\n",
    "\n",
    "int main(int argc,char * argv[])\n",
    "{\n",
    "    char country[3] = \"US\";\n",
    "    printf(\"%c%c\\n\",country[0],country[1]);\n",
    "    printf(\"%s\\n\", country);\n",
    "    return 0;\n",
    "}"
   ]
  },
  {
   "cell_type": "code",
   "execution_count": 3,
   "metadata": {},
   "outputs": [
    {
     "name": "stdout",
     "output_type": "stream",
     "text": [
      "US\n",
      "USA\n"
     ]
    }
   ],
   "source": [
    "## 파이썬 - 최대 길이를 지정하지 않아도 됌\n",
    "country = \"US\"\n",
    "print(country)\n",
    "\n",
    "country = country + \"A\"\n",
    "print(country)"
   ]
  },
  {
   "cell_type": "markdown",
   "metadata": {},
   "source": [
    "## 3. 파이썬과 배열"
   ]
  },
  {
   "cell_type": "code",
   "execution_count": 4,
   "metadata": {},
   "outputs": [
    {
     "name": "stdout",
     "output_type": "stream",
     "text": [
      "[1, 2, 3, 4, 5]\n"
     ]
    }
   ],
   "source": [
    "# 1차원 배열 : 리스트로 구현시\n",
    "data = [1,2,3,4,5]\n",
    "print(data)"
   ]
  },
  {
   "cell_type": "code",
   "execution_count": 5,
   "metadata": {},
   "outputs": [
    {
     "data": {
      "text/plain": [
       "[[1, 2, 3], [4, 5, 6], [7, 8, 9]]"
      ]
     },
     "execution_count": 5,
     "metadata": {},
     "output_type": "execute_result"
    }
   ],
   "source": [
    "# 2차원 배열 : 리스트로 구현시\n",
    "data = [[1,2,3],[4,5,6],[7,8,9]]\n",
    "data"
   ]
  },
  {
   "cell_type": "code",
   "execution_count": 8,
   "metadata": {},
   "outputs": [
    {
     "name": "stdout",
     "output_type": "stream",
     "text": [
      "[1, 2, 3]\n",
      "1\n",
      "2\n",
      "3\n",
      "4\n"
     ]
    }
   ],
   "source": [
    "# 1차원 접근\n",
    "print(data[0])\n",
    "# 2차원 접근\n",
    "print(data[0][0])\n",
    "print(data[0][1])\n",
    "print(data[0][2])\n",
    "print(data[1][0])"
   ]
  },
  {
   "cell_type": "markdown",
   "metadata": {},
   "source": [
    "## 3. 프로그래밍 연습"
   ]
  },
  {
   "cell_type": "markdown",
   "metadata": {},
   "source": [
    "#### 연습 1: 위의 2차원 배열에서 9,8,7 순서로 출력해보기"
   ]
  },
  {
   "cell_type": "code",
   "execution_count": 11,
   "metadata": {},
   "outputs": [
    {
     "name": "stdout",
     "output_type": "stream",
     "text": [
      "9 8 7\n"
     ]
    }
   ],
   "source": [
    "print(data[2][2],data[2][1],data[2][0])"
   ]
  },
  {
   "cell_type": "code",
   "execution_count": null,
   "metadata": {},
   "outputs": [],
   "source": []
  }
 ],
 "metadata": {
  "kernelspec": {
   "display_name": "Python 3",
   "language": "python",
   "name": "python3"
  },
  "language_info": {
   "codemirror_mode": {
    "name": "ipython",
    "version": 3
   },
   "file_extension": ".py",
   "mimetype": "text/x-python",
   "name": "python",
   "nbconvert_exporter": "python",
   "pygments_lexer": "ipython3",
   "version": "3.8.5"
  }
 },
 "nbformat": 4,
 "nbformat_minor": 4
}
