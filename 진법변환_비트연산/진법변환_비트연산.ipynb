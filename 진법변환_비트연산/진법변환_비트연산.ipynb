{
 "cells": [
  {
   "cell_type": "markdown",
   "metadata": {},
   "source": [
    "## 진법이란?\n",
    "\n",
    "수를 셀 떄 자릿수가 올라가는 단위를 기준으로 하는 셈법의 총칭\n",
    "<br>사용하는 숫자의 개수가 진법의 숫자를 의미"
   ]
  },
  {
   "cell_type": "markdown",
   "metadata": {},
   "source": [
    "**10진법 -> 2진법**\n",
    "\n",
    "0b -> binary의 약자로 2진법을 의미"
   ]
  },
  {
   "cell_type": "code",
   "execution_count": 1,
   "metadata": {},
   "outputs": [
    {
     "data": {
      "text/plain": [
       "'0b1010'"
      ]
     },
     "execution_count": 1,
     "metadata": {},
     "output_type": "execute_result"
    }
   ],
   "source": [
    "bin(10)"
   ]
  },
  {
   "cell_type": "markdown",
   "metadata": {},
   "source": [
    "![화면 캡처 2021-04-18 033946](https://user-images.githubusercontent.com/76687078/115123423-f28d0a00-9ff7-11eb-8cc4-71e004e63eea.png)"
   ]
  },
  {
   "cell_type": "markdown",
   "metadata": {},
   "source": [
    "**10진법 -> 8진법**\n",
    "\n",
    "0o -> octal의 약자로 8진법을 의미"
   ]
  },
  {
   "cell_type": "markdown",
   "metadata": {},
   "source": [
    "![화면 캡처 2021-04-18 034357](https://user-images.githubusercontent.com/76687078/115123514-557ea100-9ff8-11eb-9937-c48267980627.png)"
   ]
  },
  {
   "cell_type": "code",
   "execution_count": 2,
   "metadata": {},
   "outputs": [
    {
     "data": {
      "text/plain": [
       "'0o137'"
      ]
     },
     "execution_count": 2,
     "metadata": {},
     "output_type": "execute_result"
    }
   ],
   "source": [
    "oct(95)"
   ]
  },
  {
   "cell_type": "markdown",
   "metadata": {},
   "source": [
    "**10진법 -> 16진법**\n",
    "\n",
    "16개의 숫자를 사용하는 16진법의 나머지 6개의 숫자는?\n",
    "\n",
    "10 -> a\n",
    "11 -> b\n",
    "12 -> c\n",
    "13 -> d\n",
    "14 -> e\n",
    "15 -> f\n",
    "\n",
    "0x -> hex의 약자로 16진법을 의미"
   ]
  },
  {
   "cell_type": "markdown",
   "metadata": {},
   "source": [
    "![화면 캡처 2021-04-18 034813](https://user-images.githubusercontent.com/76687078/115123634-f3726b80-9ff8-11eb-8c7f-5f4eb9a2c375.png)"
   ]
  },
  {
   "cell_type": "code",
   "execution_count": 3,
   "metadata": {},
   "outputs": [
    {
     "data": {
      "text/plain": [
       "'0x15e'"
      ]
     },
     "execution_count": 3,
     "metadata": {},
     "output_type": "execute_result"
    }
   ],
   "source": [
    "hex(350)"
   ]
  },
  {
   "cell_type": "markdown",
   "metadata": {},
   "source": [
    "n진법 -> 10진법\n",
    "\n",
    "**int()**"
   ]
  },
  {
   "cell_type": "code",
   "execution_count": 4,
   "metadata": {},
   "outputs": [
    {
     "data": {
      "text/plain": [
       "13"
      ]
     },
     "execution_count": 4,
     "metadata": {},
     "output_type": "execute_result"
    }
   ],
   "source": [
    "int(0b1101)"
   ]
  },
  {
   "cell_type": "code",
   "execution_count": 5,
   "metadata": {},
   "outputs": [
    {
     "data": {
      "text/plain": [
       "59"
      ]
     },
     "execution_count": 5,
     "metadata": {},
     "output_type": "execute_result"
    }
   ],
   "source": [
    "int(0o73)"
   ]
  },
  {
   "cell_type": "code",
   "execution_count": 6,
   "metadata": {},
   "outputs": [
    {
     "data": {
      "text/plain": [
       "126"
      ]
     },
     "execution_count": 6,
     "metadata": {},
     "output_type": "execute_result"
    }
   ],
   "source": [
    "int(0x7e)"
   ]
  },
  {
   "cell_type": "markdown",
   "metadata": {},
   "source": [
    "## 비트연산\n",
    "\n",
    "#### 비트연산의 종류\n",
    "\n",
    "**and, or xor, not, shift**"
   ]
  },
  {
   "cell_type": "markdown",
   "metadata": {},
   "source": [
    "- and 연산"
   ]
  },
  {
   "cell_type": "markdown",
   "metadata": {},
   "source": [
    "![and연산](https://user-images.githubusercontent.com/76687078/115123916-59132780-9ffa-11eb-9a23-6c4a2ccebf8c.png)"
   ]
  },
  {
   "cell_type": "markdown",
   "metadata": {},
   "source": [
    "- or 연산"
   ]
  },
  {
   "cell_type": "markdown",
   "metadata": {},
   "source": [
    "![or연산](https://user-images.githubusercontent.com/76687078/115123939-7f38c780-9ffa-11eb-9540-a30e58b45799.png)"
   ]
  },
  {
   "cell_type": "markdown",
   "metadata": {},
   "source": [
    "- xor 연산"
   ]
  },
  {
   "cell_type": "markdown",
   "metadata": {},
   "source": [
    "![xor연산](https://user-images.githubusercontent.com/76687078/115123963-a099b380-9ffa-11eb-9556-80ddc4b2fea8.png)"
   ]
  },
  {
   "cell_type": "markdown",
   "metadata": {},
   "source": [
    "- not 연산\n",
    "\n",
    "비트 반전 연산자로 1은 0으로 0은 1로 변환한다.\n",
    "<br>\n",
    "음수의 표현을 처리하기 위함"
   ]
  },
  {
   "cell_type": "markdown",
   "metadata": {},
   "source": [
    "![not연산](https://user-images.githubusercontent.com/76687078/115123990-c6bf5380-9ffa-11eb-9709-241be57198da.png)"
   ]
  },
  {
   "cell_type": "markdown",
   "metadata": {},
   "source": [
    "![2진수의음수](https://user-images.githubusercontent.com/76687078/115124004-ddfe4100-9ffa-11eb-8eb7-e92dde2ecaa7.png)"
   ]
  },
  {
   "cell_type": "markdown",
   "metadata": {},
   "source": [
    "![not](https://user-images.githubusercontent.com/76687078/115124146-af349a80-9ffb-11eb-96ab-ac9c8429cbcf.png)"
   ]
  },
  {
   "cell_type": "markdown",
   "metadata": {},
   "source": [
    "- shift(<<,>>)"
   ]
  },
  {
   "cell_type": "markdown",
   "metadata": {},
   "source": [
    "![shift](https://user-images.githubusercontent.com/76687078/115124153-c1aed400-9ffb-11eb-9e0c-c812a66cae03.png)"
   ]
  },
  {
   "cell_type": "markdown",
   "metadata": {},
   "source": [
    "### 비트연산과 십진법"
   ]
  },
  {
   "cell_type": "markdown",
   "metadata": {},
   "source": [
    "![비트연산과 십진법](https://user-images.githubusercontent.com/76687078/115124171-dab78500-9ffb-11eb-8865-43a6e97cf6eb.png)"
   ]
  },
  {
   "cell_type": "markdown",
   "metadata": {},
   "source": [
    "### 비트연산 활용"
   ]
  },
  {
   "cell_type": "markdown",
   "metadata": {},
   "source": [
    "![비트연산 활용](https://user-images.githubusercontent.com/76687078/115124192-f7ec5380-9ffb-11eb-9828-baa92d0651f6.png)"
   ]
  },
  {
   "cell_type": "code",
   "execution_count": null,
   "metadata": {},
   "outputs": [],
   "source": []
  }
 ],
 "metadata": {
  "kernelspec": {
   "display_name": "Python 3",
   "language": "python",
   "name": "python3"
  },
  "language_info": {
   "codemirror_mode": {
    "name": "ipython",
    "version": 3
   },
   "file_extension": ".py",
   "mimetype": "text/x-python",
   "name": "python",
   "nbconvert_exporter": "python",
   "pygments_lexer": "ipython3",
   "version": "3.8.5"
  }
 },
 "nbformat": 4,
 "nbformat_minor": 4
}
