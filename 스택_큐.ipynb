{
 "cells": [
  {
   "cell_type": "markdown",
   "metadata": {},
   "source": [
    "## 스택\n",
    "\n",
    "- '쌓다'라는 의미\n",
    "- 프로그래밍 목록 혹은 리스트에서 접근이 한 쪽에서만 가능한 구조\n",
    "- LIFO(Last-In,First-Out)가 기본 원리"
   ]
  },
  {
   "cell_type": "markdown",
   "metadata": {},
   "source": [
    "#### 스택의 구조\n",
    "\n",
    "\n",
    "- push : 쌓여있는 책에 새로운 책 하나 올려놓는 것\n",
    "- peek: 가장 마지막에 들어간 데이터가 무엇인지 확인\n",
    "- pop :  스택에서 제일 마지막에 넣은 데이터 추출"
   ]
  },
  {
   "cell_type": "markdown",
   "metadata": {},
   "source": [
    "#### pythomn 스택의 구현 방법\n",
    "\n",
    "1.직접 구현\n",
    "2.이미 구현된 클래스 import\n",
    "3.List를 스택으로 구현\n",
    "--> 파이썬에서는 list가 스택으로 사용 가능!!"
   ]
  },
  {
   "cell_type": "markdown",
   "metadata": {},
   "source": [
    "#### python 스택 직접 구현"
   ]
  },
  {
   "cell_type": "code",
   "execution_count": 2,
   "metadata": {},
   "outputs": [],
   "source": [
    "#list를 가진 스택 선언\n",
    "class Stack(list):\n",
    "    push = list.append #append: 하나 배열 뒤에 새로운 데이터 추가\n",
    "    \n",
    "    def peek(self):\n",
    "        return self[-1]\n",
    "                #self[len(self)-1]\n",
    "# pop은 list의 내장함수로 이미 존재!!"
   ]
  },
  {
   "cell_type": "markdown",
   "metadata": {},
   "source": [
    "#### python 스택 직접 구현 활용"
   ]
  },
  {
   "cell_type": "code",
   "execution_count": 3,
   "metadata": {},
   "outputs": [
    {
     "name": "stdout",
     "output_type": "stream",
     "text": [
      "my stack is: [1, 5, 10]\n"
     ]
    }
   ],
   "source": [
    "s = Stack()\n",
    "s.push(1)\n",
    "s.push(5)\n",
    "s.push(10)\n",
    "print(\"my stack is:\",s)"
   ]
  },
  {
   "cell_type": "code",
   "execution_count": 6,
   "metadata": {},
   "outputs": [
    {
     "name": "stdout",
     "output_type": "stream",
     "text": [
      "poped value is: 10\n"
     ]
    }
   ],
   "source": [
    "print(\"poped value is:\",s.pop())"
   ]
  },
  {
   "cell_type": "code",
   "execution_count": 7,
   "metadata": {},
   "outputs": [
    {
     "name": "stdout",
     "output_type": "stream",
     "text": [
      "my stack is: [1, 5]\n"
     ]
    }
   ],
   "source": [
    "print(\"my stack is:\",s)"
   ]
  },
  {
   "cell_type": "code",
   "execution_count": 8,
   "metadata": {},
   "outputs": [
    {
     "name": "stdout",
     "output_type": "stream",
     "text": [
      "peeked value is: 5\n"
     ]
    }
   ],
   "source": [
    "print(\"peeked value is:\",s.peek())"
   ]
  },
  {
   "cell_type": "code",
   "execution_count": 9,
   "metadata": {},
   "outputs": [
    {
     "name": "stdout",
     "output_type": "stream",
     "text": [
      "my stack is: [1, 5]\n"
     ]
    }
   ],
   "source": [
    "print(\"my stack is:\",s)"
   ]
  },
  {
   "cell_type": "markdown",
   "metadata": {},
   "source": [
    "#### python list를 스택으로 활용"
   ]
  },
  {
   "cell_type": "code",
   "execution_count": 10,
   "metadata": {},
   "outputs": [],
   "source": [
    "s = []\n",
    "s.append(1)\n",
    "s.append(5)\n",
    "s.append(10)"
   ]
  },
  {
   "cell_type": "code",
   "execution_count": 11,
   "metadata": {},
   "outputs": [
    {
     "name": "stdout",
     "output_type": "stream",
     "text": [
      "my stack is: [1, 5, 10]\n"
     ]
    }
   ],
   "source": [
    "print(\"my stack is:\",s)"
   ]
  },
  {
   "cell_type": "code",
   "execution_count": 12,
   "metadata": {},
   "outputs": [
    {
     "name": "stdout",
     "output_type": "stream",
     "text": [
      "poped value is: 10\n"
     ]
    }
   ],
   "source": [
    "print(\"poped value is:\",s.pop())"
   ]
  },
  {
   "cell_type": "code",
   "execution_count": 13,
   "metadata": {},
   "outputs": [
    {
     "name": "stdout",
     "output_type": "stream",
     "text": [
      "my stack is: [1, 5]\n"
     ]
    }
   ],
   "source": [
    "print(\"my stack is:\",s)"
   ]
  },
  {
   "cell_type": "code",
   "execution_count": 14,
   "metadata": {},
   "outputs": [
    {
     "name": "stdout",
     "output_type": "stream",
     "text": [
      "peeked value is: 5\n"
     ]
    }
   ],
   "source": [
    "print(\"peeked value is:\",s[-1])"
   ]
  },
  {
   "cell_type": "code",
   "execution_count": 15,
   "metadata": {},
   "outputs": [
    {
     "name": "stdout",
     "output_type": "stream",
     "text": [
      "my stack is: [1, 5]\n"
     ]
    }
   ],
   "source": [
    "print(\"my stack is:\",s)"
   ]
  },
  {
   "cell_type": "markdown",
   "metadata": {},
   "source": [
    "#### 스택의 활용\n",
    "\n",
    "- 이전페이지, 다음페이지\n",
    "- 깊이 우선 탐색"
   ]
  },
  {
   "cell_type": "markdown",
   "metadata": {},
   "source": [
    "## 큐\n",
    "\n",
    "- '일이 처리되기를 기다리는 리스트'\n",
    "-  프로그래밍에서 목록 혹은 리스트에서 접근이 양쪽에서 가능한 구조\n",
    "- FIFO(First-in,First-out)가 기본원리\n",
    "\n",
    "#### 큐의 구조\n",
    "- put : 큐에 새로운 데이터를 넣음\n",
    "- peek : 큐에 가장 먼저 들어간 데이터 확인\n",
    "- get : 가장 먼저 있었던 데이터를 빼냄"
   ]
  },
  {
   "cell_type": "markdown",
   "metadata": {},
   "source": [
    "#### pythomn 큐의 구현 방법\n",
    "\n",
    "1.직접 구현\n",
    "</br>\n",
    "2.이미 구현된 클래스 import\n",
    "</br>\n",
    "3.List를 스택으로 구현"
   ]
  },
  {
   "cell_type": "code",
   "execution_count": 16,
   "metadata": {},
   "outputs": [],
   "source": [
    "class Queue(list):\n",
    "    put = list.append # put은 데이터를 추가하는 append와 같은 동작을 함\n",
    "    def peek(self):\n",
    "        return self[0] #가장 앞의 있는 값 보여줌\n",
    "    def get(self):\n",
    "        return self.pop(0)"
   ]
  },
  {
   "cell_type": "markdown",
   "metadata": {},
   "source": [
    "#### pythomn 큐 직접 구현 활용"
   ]
  },
  {
   "cell_type": "code",
   "execution_count": 17,
   "metadata": {},
   "outputs": [
    {
     "name": "stdout",
     "output_type": "stream",
     "text": [
      "my queue is: [1, 5, 10]\n"
     ]
    }
   ],
   "source": [
    "q = Queue()\n",
    "q.put(1)\n",
    "q.put(5)\n",
    "q.put(10)\n",
    "print(\"my queue is:\",q)"
   ]
  },
  {
   "cell_type": "code",
   "execution_count": 18,
   "metadata": {},
   "outputs": [
    {
     "name": "stdout",
     "output_type": "stream",
     "text": [
      "removed value is: 1\n"
     ]
    }
   ],
   "source": [
    "print(\"removed value is:\",q.get())"
   ]
  },
  {
   "cell_type": "code",
   "execution_count": 19,
   "metadata": {},
   "outputs": [
    {
     "name": "stdout",
     "output_type": "stream",
     "text": [
      "my queue is: [5, 10]\n"
     ]
    }
   ],
   "source": [
    "print(\"my queue is:\",q)"
   ]
  },
  {
   "cell_type": "code",
   "execution_count": 20,
   "metadata": {},
   "outputs": [
    {
     "name": "stdout",
     "output_type": "stream",
     "text": [
      "peeked value is: 5\n"
     ]
    }
   ],
   "source": [
    "print(\"peeked value is:\",q.peek())"
   ]
  },
  {
   "cell_type": "code",
   "execution_count": 21,
   "metadata": {},
   "outputs": [
    {
     "name": "stdout",
     "output_type": "stream",
     "text": [
      "my queue is: [5, 10]\n"
     ]
    }
   ],
   "source": [
    "print(\"my queue is:\",q)"
   ]
  },
  {
   "cell_type": "markdown",
   "metadata": {},
   "source": [
    "#### python 구현된 클래스 import"
   ]
  },
  {
   "cell_type": "code",
   "execution_count": 24,
   "metadata": {},
   "outputs": [],
   "source": [
    "from queue import Queue"
   ]
  },
  {
   "cell_type": "code",
   "execution_count": 27,
   "metadata": {},
   "outputs": [],
   "source": [
    "q = Queue()"
   ]
  },
  {
   "cell_type": "code",
   "execution_count": 31,
   "metadata": {},
   "outputs": [
    {
     "name": "stdout",
     "output_type": "stream",
     "text": [
      "my queue is: <queue.Queue object at 0x000002380E913FD0>\n"
     ]
    }
   ],
   "source": [
    "q.put(1)\n",
    "q.put(5)\n",
    "q.put(10)\n",
    "print(\"my queue is:\",Queue())"
   ]
  },
  {
   "cell_type": "code",
   "execution_count": 32,
   "metadata": {},
   "outputs": [
    {
     "name": "stdout",
     "output_type": "stream",
     "text": [
      "removed value is: 1\n"
     ]
    }
   ],
   "source": [
    "print(\"removed value is:\",q.get())"
   ]
  },
  {
   "cell_type": "code",
   "execution_count": 33,
   "metadata": {},
   "outputs": [
    {
     "name": "stdout",
     "output_type": "stream",
     "text": [
      "my queue is: <queue.Queue object at 0x000002380E967550>\n"
     ]
    }
   ],
   "source": [
    "print(\"my queue is:\",q)"
   ]
  },
  {
   "cell_type": "code",
   "execution_count": 34,
   "metadata": {},
   "outputs": [
    {
     "ename": "AttributeError",
     "evalue": "'Queue' object has no attribute 'peek'",
     "output_type": "error",
     "traceback": [
      "\u001b[1;31m---------------------------------------------------------------------------\u001b[0m",
      "\u001b[1;31mAttributeError\u001b[0m                            Traceback (most recent call last)",
      "\u001b[1;32m<ipython-input-34-8649fd594c43>\u001b[0m in \u001b[0;36m<module>\u001b[1;34m\u001b[0m\n\u001b[1;32m----> 1\u001b[1;33m \u001b[0mprint\u001b[0m\u001b[1;33m(\u001b[0m\u001b[1;34m\"peeked value is :\"\u001b[0m\u001b[1;33m,\u001b[0m\u001b[0mq\u001b[0m\u001b[1;33m.\u001b[0m\u001b[0mpeek\u001b[0m\u001b[1;33m(\u001b[0m\u001b[1;33m)\u001b[0m\u001b[1;33m)\u001b[0m\u001b[1;33m\u001b[0m\u001b[1;33m\u001b[0m\u001b[0m\n\u001b[0m",
      "\u001b[1;31mAttributeError\u001b[0m: 'Queue' object has no attribute 'peek'"
     ]
    }
   ],
   "source": [
    "print(\"peeked value is :\",q.peek())"
   ]
  },
  {
   "cell_type": "markdown",
   "metadata": {},
   "source": [
    "#### python list를 큐로 활용"
   ]
  },
  {
   "cell_type": "code",
   "execution_count": 36,
   "metadata": {},
   "outputs": [
    {
     "name": "stdout",
     "output_type": "stream",
     "text": [
      "my queue is: [1, 5, 10]\n"
     ]
    }
   ],
   "source": [
    "q = []\n",
    "q.append(1)\n",
    "q.append(5)\n",
    "q.append(10)\n",
    "print(\"my queue is:\",q)"
   ]
  },
  {
   "cell_type": "code",
   "execution_count": 37,
   "metadata": {},
   "outputs": [
    {
     "name": "stdout",
     "output_type": "stream",
     "text": [
      "my queue is: [1, 5, 10]\n"
     ]
    }
   ],
   "source": [
    "print(\"my queue is:\",q)"
   ]
  },
  {
   "cell_type": "code",
   "execution_count": 38,
   "metadata": {},
   "outputs": [
    {
     "name": "stdout",
     "output_type": "stream",
     "text": [
      "removed value is: 1\n"
     ]
    }
   ],
   "source": [
    "print(\"removed value is:\",q.pop(0))"
   ]
  },
  {
   "cell_type": "code",
   "execution_count": 39,
   "metadata": {},
   "outputs": [
    {
     "name": "stdout",
     "output_type": "stream",
     "text": [
      "my queue is: [5, 10]\n"
     ]
    }
   ],
   "source": [
    "print(\"my queue is:\",q)"
   ]
  },
  {
   "cell_type": "code",
   "execution_count": 40,
   "metadata": {},
   "outputs": [
    {
     "name": "stdout",
     "output_type": "stream",
     "text": [
      "peeked value is: 5\n"
     ]
    }
   ],
   "source": [
    "print(\"peeked value is:\",q[0])"
   ]
  },
  {
   "cell_type": "code",
   "execution_count": 41,
   "metadata": {},
   "outputs": [
    {
     "name": "stdout",
     "output_type": "stream",
     "text": [
      "my queue is: [5, 10]\n"
     ]
    }
   ],
   "source": [
    "print(\"my queue is:\",q)"
   ]
  },
  {
   "cell_type": "markdown",
   "metadata": {},
   "source": [
    "#### 큐의 활용\n",
    "\n",
    "- 프린터 인쇄 대기열\n",
    "- 너비 우선 탐색"
   ]
  },
  {
   "cell_type": "code",
   "execution_count": null,
   "metadata": {},
   "outputs": [],
   "source": []
  }
 ],
 "metadata": {
  "kernelspec": {
   "display_name": "Python 3",
   "language": "python",
   "name": "python3"
  },
  "language_info": {
   "codemirror_mode": {
    "name": "ipython",
    "version": 3
   },
   "file_extension": ".py",
   "mimetype": "text/x-python",
   "name": "python",
   "nbconvert_exporter": "python",
   "pygments_lexer": "ipython3",
   "version": "3.8.5"
  }
 },
 "nbformat": 4,
 "nbformat_minor": 4
}
