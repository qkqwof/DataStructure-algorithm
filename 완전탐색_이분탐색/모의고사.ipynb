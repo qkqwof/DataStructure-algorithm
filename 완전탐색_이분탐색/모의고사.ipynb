{
 "cells": [
  {
   "cell_type": "markdown",
   "metadata": {},
   "source": [
    "## 모의고사\n",
    "\n",
    "문제 설명\n",
    "수포자는 수학을 포기한 사람의 준말입니다. 수포자 삼인방은 모의고사에 수학 문제를 전부 찍으려 합니다. 수포자는 1번 문제부터 마지막 문제까지 다음과 같이 찍습니다.<br>\n",
    "\n",
    "1번 수포자가 찍는 방식: 1, 2, 3, 4, 5, 1, 2, 3, 4, 5, ...<br>\n",
    "2번 수포자가 찍는 방식: 2, 1, 2, 3, 2, 4, 2, 5, 2, 1, 2, 3, 2, 4, 2, 5, ...<br>\n",
    "3번 수포자가 찍는 방식: 3, 3, 1, 1, 2, 2, 4, 4, 5, 5, 3, 3, 1, 1, 2, 2, 4, 4, 5, 5, ...<br>\n",
    "\n",
    "1번 문제부터 마지막 문제까지의 정답이 순서대로 들은 배열 answers가 주어졌을 때, 가장 많은 문제를 맞힌 사람이 누구인지 배열에 담아 return 하도록 solution 함수를 작성해주세요.<br>\n",
    "\n",
    "제한 조건<br>\n",
    "시험은 최대 10,000 문제로 구성되어있습니다.<br>\n",
    "문제의 정답은 1, 2, 3, 4, 5중 하나입니다.<br>\n",
    "가장 높은 점수를 받은 사람이 여럿일 경우, return하는 값을 오름차순 정렬해주세요.<br>\n",
    "입출력 예<br>\n",
    "answers\treturn<br>\n",
    "[1,2,3,4,5]\t[1]<br>\n",
    "[1,3,2,4,2]\t[1,2,3]<br>\n",
    "입출력 예 설명<br>\n",
    "입출력 예 #1<br>\n",
    "\n",
    "수포자 1은 모든 문제를 맞혔습니다.<br>\n",
    "수포자 2는 모든 문제를 틀렸습니다.<br>\n",
    "수포자 3은 모든 문제를 틀렸습니다.<br>\n",
    "따라서 가장 문제를 많이 맞힌 사람은 수포자 1입니다.<br>\n",
    "\n",
    "입출력 예 #2<br>\n",
    "\n",
    "모든 사람이 2문제씩을 맞췄습니다."
   ]
  },
  {
   "cell_type": "code",
   "execution_count": 1,
   "metadata": {},
   "outputs": [],
   "source": [
    "def solution(answers):\n",
    "    #수포자가 찍는 방식을 저장\n",
    "    p1 = [1,2,3,4,5]\n",
    "    p2 = [2,1,2,3,2,4,2,5]\n",
    "    p3 = [3,3,1,1,2,2,4,4,5,5]\n",
    "\n",
    "    # 최고 득점자\n",
    "    answer = []\n",
    "    \n",
    "    #p1,p2,p3의 맞을 개수를 저장할 리스트\n",
    "    n = [0,0,0]\n",
    "\n",
    "    #student들의 맞은 문제 개수\n",
    "    for index, i in enumerate(answers):\n",
    "        print(i,i%len(p1))\n",
    "        if i == p1[index % len(p1)]:\n",
    "            n[0] += 1\n",
    "        if i == p2[index % len(p2)]:\n",
    "            n[1] += 1\n",
    "        if i == p3[index % len(p3)]:\n",
    "            n[2] += 1\n",
    "    \n",
    "    #최고득점자 넣기\n",
    "    for i in range(len(n)):\n",
    "        if max(n) == n[i]:\n",
    "            answer.append(i+1)\n",
    "    return answer"
   ]
  },
  {
   "cell_type": "code",
   "execution_count": 2,
   "metadata": {},
   "outputs": [
    {
     "name": "stdout",
     "output_type": "stream",
     "text": [
      "1 1\n",
      "2 2\n",
      "3 3\n",
      "4 4\n",
      "5 0\n",
      "[1]\n"
     ]
    }
   ],
   "source": [
    "print(solution([1,2,3,4,5]))"
   ]
  },
  {
   "cell_type": "code",
   "execution_count": 3,
   "metadata": {},
   "outputs": [
    {
     "name": "stdout",
     "output_type": "stream",
     "text": [
      "1 1\n",
      "3 3\n",
      "2 2\n",
      "4 4\n",
      "2 2\n",
      "[1, 2, 3]\n"
     ]
    }
   ],
   "source": [
    "print(solution([1,3,2,4,2]))"
   ]
  },
  {
   "cell_type": "code",
   "execution_count": null,
   "metadata": {},
   "outputs": [],
   "source": []
  }
 ],
 "metadata": {
  "kernelspec": {
   "display_name": "Python 3",
   "language": "python",
   "name": "python3"
  },
  "language_info": {
   "codemirror_mode": {
    "name": "ipython",
    "version": 3
   },
   "file_extension": ".py",
   "mimetype": "text/x-python",
   "name": "python",
   "nbconvert_exporter": "python",
   "pygments_lexer": "ipython3",
   "version": "3.8.5"
  }
 },
 "nbformat": 4,
 "nbformat_minor": 4
}
