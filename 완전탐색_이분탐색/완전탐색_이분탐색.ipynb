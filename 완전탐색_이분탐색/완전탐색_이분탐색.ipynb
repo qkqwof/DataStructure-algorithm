{
 "cells": [
  {
   "cell_type": "markdown",
   "metadata": {},
   "source": [
    "### 탐색이란?\n",
    "\n",
    "- 많은 데이터 속에서 원하는 데이터를 찾는 것으로 웹에서 특정 문자를 가진 웹 문서를 가진 웹 문서를 찾거나 신용카드나 버스카드 역시 검색 알고리즘을 사용\n"
   ]
  },
  {
   "cell_type": "markdown",
   "metadata": {},
   "source": [
    "#### 완전탐색이란?\n",
    "\n",
    "- 부루트 포스라고도 불리며 컴퓨터의 빠른 계산 성능을 활용하여 가능한 모든 경우의 수를 탐색하는 효율성 관점에서 최악의 방법\n",
    "\n",
    "#### 완전 탐색 구현 방법\n",
    "\n",
    "- 반복문\n",
    "- 재귀함수\n",
    "    - 동적 계획법\n",
    "    - 백트래킹\n",
    "    - 탐욕법"
   ]
  },
  {
   "cell_type": "markdown",
   "metadata": {},
   "source": [
    "- 완전탐색 - 반복문 구현"
   ]
  },
  {
   "cell_type": "code",
   "execution_count": 1,
   "metadata": {},
   "outputs": [],
   "source": [
    "def solution(trump):\n",
    "    for i in range(len(trump)):\n",
    "        if trump[i] == 8:\n",
    "            return i\n",
    "        return -1"
   ]
  },
  {
   "cell_type": "markdown",
   "metadata": {},
   "source": [
    "- 완전탐색 - 재귀함수"
   ]
  },
  {
   "cell_type": "code",
   "execution_count": 2,
   "metadata": {},
   "outputs": [],
   "source": [
    "def solution(trump,loc):\n",
    "    if trump[loc] == 8:\n",
    "        return loic\n",
    "    else:\n",
    "        return solution(trump,loc+1)"
   ]
  },
  {
   "cell_type": "markdown",
   "metadata": {},
   "source": [
    "#### 이분탐색이란?\n",
    "\n",
    "- 이진검색이라고도 표현하며 오름차순으로 **정렬된 리스트**에서 특정 값의 위치를 찾는 알고리즘... 중간의 값을 선택하여 찾고자 하는 값과의 크고 작음을 비교하는 방법\n",
    "\n",
    "\n",
    "- Up&Douwn 생각\n",
    "    - 범위를 점차 줄여 나가는 것"
   ]
  },
  {
   "cell_type": "markdown",
   "metadata": {},
   "source": [
    "#### 이분탐색 예시코드"
   ]
  },
  {
   "cell_type": "code",
   "execution_count": 4,
   "metadata": {},
   "outputs": [],
   "source": [
    "def solution(trump):\n",
    "    left=0\n",
    "    right=len(trump)-1 #함수 시작 시, left, right 선언\n",
    "    while(left<=right):\n",
    "        mid =(left+right)//2  #mid값 계산\n",
    "        if trump[mid] == 8: #정답 찾으면 정답 반환\n",
    "            return mid\n",
    "        elif trump[mid] < 8: #정답보다 작은 경우 left를 mid+1로\n",
    "            left = mid + 1\n",
    "        elif trump[mid] > 8: #정답보다 클 경우 right를 mid-1로\n",
    "            right = mid - 1\n",
    "    return mid"
   ]
  },
  {
   "cell_type": "code",
   "execution_count": null,
   "metadata": {},
   "outputs": [],
   "source": []
  }
 ],
 "metadata": {
  "kernelspec": {
   "display_name": "Python 3",
   "language": "python",
   "name": "python3"
  },
  "language_info": {
   "codemirror_mode": {
    "name": "ipython",
    "version": 3
   },
   "file_extension": ".py",
   "mimetype": "text/x-python",
   "name": "python",
   "nbconvert_exporter": "python",
   "pygments_lexer": "ipython3",
   "version": "3.8.5"
  }
 },
 "nbformat": 4,
 "nbformat_minor": 4
}
