{
 "cells": [
  {
   "cell_type": "code",
   "execution_count": 5,
   "metadata": {},
   "outputs": [],
   "source": [
    "def solution(prices):\n",
    "    n = len(prices)\n",
    "    # 1. answer를 prices 길이와 맞춘다.\n",
    "    answer = [0] * n\n",
    "    # 2. 스택 생성\n",
    "    st = []\n",
    "    # 3. 0 ~ n-1 초까지 순회\n",
    "    for i in range(n):\n",
    "        # 1. 스택 비지 않고, prices[top] > prices[i] 이라면 다음 반복\n",
    "        # 1-1. 스택에서 마지막에 저장된 시간 top 꺼냄\n",
    "        # 1-2. answer[top]에 i - top을 저장\n",
    "        while st and prices[st[-1]] > prices[i]:\n",
    "            top = st.pop()\n",
    "            answer[top] = i - top\n",
    "        # 2. 스택에 현재 시간 i 저장\n",
    "        st.append(i)\n",
    "    \n",
    "    # 4. 만약 스택이 남아있다면, 스택이 빌 때까지 다음 반복\n",
    "    while st:\n",
    "        # 1. 스택에서 마지막에 저장된 시간 top 꺼냄\n",
    "        # 2. answer[top]에 가장 마지막 시간 n - i 에서 top을 뺸 시간 저장\n",
    "        top = st.pop()\n",
    "        answer[top] = n - 1 - top\n",
    "    \n",
    "    return answer"
   ]
  },
  {
   "cell_type": "code",
   "execution_count": 6,
   "metadata": {},
   "outputs": [
    {
     "name": "stdout",
     "output_type": "stream",
     "text": [
      "[4, 3, 1, 1, 0]\n"
     ]
    }
   ],
   "source": [
    "print(solution([1,2,3,2,3]))"
   ]
  },
  {
   "cell_type": "code",
   "execution_count": null,
   "metadata": {},
   "outputs": [],
   "source": []
  }
 ],
 "metadata": {
  "kernelspec": {
   "display_name": "Python 3",
   "language": "python",
   "name": "python3"
  },
  "language_info": {
   "codemirror_mode": {
    "name": "ipython",
    "version": 3
   },
   "file_extension": ".py",
   "mimetype": "text/x-python",
   "name": "python",
   "nbconvert_exporter": "python",
   "pygments_lexer": "ipython3",
   "version": "3.8.5"
  }
 },
 "nbformat": 4,
 "nbformat_minor": 4
}
