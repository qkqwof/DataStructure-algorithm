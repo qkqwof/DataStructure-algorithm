{
 "cells": [
  {
   "cell_type": "code",
   "execution_count": 3,
   "metadata": {},
   "outputs": [
    {
     "name": "stdout",
     "output_type": "stream",
     "text": [
      "0\n",
      "1\n",
      "0\n",
      "0\n",
      "0\n",
      "1\n",
      "0\n",
      "0\n",
      "0\n",
      "0\n",
      "0\n",
      "1\n"
     ]
    }
   ],
   "source": [
    "n = 4\n",
    "nums = [1,3,5,7] \n",
    "outcnt = 0\n",
    "\n",
    "for i in nums:\n",
    "    cnt = 0\n",
    "    if i == 1:\n",
    "        continue\n",
    "    for j in range(2,i+1):\n",
    "        if i%j == 0:\n",
    "            cnt += 1\n",
    "        print(cnt)"
   ]
  },
  {
   "cell_type": "code",
   "execution_count": 16,
   "metadata": {},
   "outputs": [
    {
     "name": "stdout",
     "output_type": "stream",
     "text": [
      "[7, 8, 10, 13, 15, 19, 20, 23, 25]\n"
     ]
    }
   ],
   "source": [
    "lists = [20,7,23,19,10,15,25,8,13]\n",
    "lst = []\n",
    "for i in lists:\n",
    "    lst.append(i)\n",
    "x = sorted(lst)\n",
    "print(x)"
   ]
  },
  {
   "cell_type": "code",
   "execution_count": null,
   "metadata": {},
   "outputs": [],
   "source": []
  }
 ],
 "metadata": {
  "kernelspec": {
   "display_name": "Python 3",
   "language": "python",
   "name": "python3"
  },
  "language_info": {
   "codemirror_mode": {
    "name": "ipython",
    "version": 3
   },
   "file_extension": ".py",
   "mimetype": "text/x-python",
   "name": "python",
   "nbconvert_exporter": "python",
   "pygments_lexer": "ipython3",
   "version": "3.8.5"
  }
 },
 "nbformat": 4,
 "nbformat_minor": 4
}
